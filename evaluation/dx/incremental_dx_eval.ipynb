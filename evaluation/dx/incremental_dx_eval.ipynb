{
 "cells": [
  {
   "cell_type": "code",
   "execution_count": null,
   "metadata": {},
   "outputs": [],
   "source": [
    "import pandas as pd\n",
    "import matplotlib.pyplot as plt\n",
    "import seaborn as sns\n",
    "\n",
    "sns.set_theme()"
   ]
  },
  {
   "cell_type": "markdown",
   "metadata": {},
   "source": [
    "## Non-Incremental vs. Incremental Training (Figure)"
   ]
  },
  {
   "cell_type": "code",
   "execution_count": null,
   "metadata": {},
   "outputs": [],
   "source": [
    "fig, axs = plt.subplots(nrows=2, ncols=4, figsize=(18, 9), dpi=300)\n",
    "fig.tight_layout(pad=5.0)\n",
    "\n",
    "input_type = \"norm\"\n",
    "split = \"test\"\n",
    "n_partialss = [1, 4]\n",
    "metrics = [\"macro_f1\", \"micro_f1\", \"cohen_kappa\", \"mcc\", \"hat3\", \"hat5\", \"hat8\"]\n",
    "\n",
    "metric_dfs = dict()\n",
    "for i, metric in enumerate(metrics):\n",
    "    row = i // axs.shape[1]\n",
    "    col = i % axs.shape[1]\n",
    "    ax = axs[row][col]\n",
    "    ax.set_title(metric, fontsize=14)\n",
    "    ax.set_xlabel(\"EMR Proportion\")\n",
    "    ax.set_ylabel(\"Performance\")\n",
    "    # load data for plotting\n",
    "    dfs = list()\n",
    "    for n_partials in n_partialss:\n",
    "        df = pd.read_csv(f\"../../training/dx/models_increment/encoder-BioLinkBERT__optimizer-AdamW__scheduler-linear__lr-5e-05__n_partials-{n_partials}__input_type-{input_type}__label_type-outicd__scheme-everyk/eval_results/incremental_{split}_{metric}.csv\", index_col=\"prop\")\n",
    "        df = df[metric].to_frame().rename({metric: \"non-incremental traning\" if n_partials == 1 else \"incremental training\"}, axis=\"columns\")\n",
    "        df.index.rename(name=\"Proportion of input clinical findings\", inplace=True)\n",
    "        dfs.append(df)\n",
    "    metric_df = pd.concat(objs=dfs, axis=\"columns\")\n",
    "    metric_dfs[metric] = metric_df\n",
    "    metric_df.plot(ax=ax).legend(loc=\"lower right\")"
   ]
  },
  {
   "cell_type": "markdown",
   "metadata": {},
   "source": [
    "## Non-Incremental vs. Incremental Training (Table)"
   ]
  },
  {
   "cell_type": "code",
   "execution_count": null,
   "metadata": {},
   "outputs": [],
   "source": [
    "metric_cols = list()\n",
    "\n",
    "for metric in metrics:\n",
    "    metric_col = metric_dfs[metric].mean(axis=0).to_frame().rename({0: metric}, axis=1)\n",
    "    metric_cols.append(metric_col)\n",
    "\n",
    "pd.concat(metric_cols, axis=1)"
   ]
  }
 ],
 "metadata": {
  "kernelspec": {
   "display_name": "Python 3.8.13 ('cuda-11.3')",
   "language": "python",
   "name": "python3"
  },
  "language_info": {
   "codemirror_mode": {
    "name": "ipython",
    "version": 3
   },
   "file_extension": ".py",
   "mimetype": "text/x-python",
   "name": "python",
   "nbconvert_exporter": "python",
   "pygments_lexer": "ipython3",
   "version": "3.8.13"
  },
  "orig_nbformat": 4,
  "vscode": {
   "interpreter": {
    "hash": "35b66dd0c8f752918e1728d86abaa8fb004a7dee1d90779ea4d0023d852f9fe7"
   }
  }
 },
 "nbformat": 4,
 "nbformat_minor": 2
}
