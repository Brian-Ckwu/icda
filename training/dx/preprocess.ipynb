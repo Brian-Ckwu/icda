{
 "cells": [
  {
   "cell_type": "code",
   "execution_count": 2,
   "metadata": {},
   "outputs": [],
   "source": [
    "import sys\n",
    "sys.path.append(\"../../\")\n",
    "\n",
    "import json\n",
    "import pickle\n",
    "from pathlib import Path\n",
    "from collections import Counter\n",
    "\n",
    "import pandas as pd\n",
    "\n",
    "from sklearn.model_selection import train_test_split\n",
    "\n",
    "import torch\n",
    "import torch.nn as nn\n",
    "from transformers import AutoTokenizer\n",
    "\n",
    "from utilities.utils import set_seeds, render_exp_name, load_args, load_pickle, load_json, save_json, get_logger\n",
    "from utilities.preprocess import augment_extracted_emrs_with_partials, preprocess_extracted_emrs, select_labels_subset, build_label2id_mapping, augment_full_emrs_with_partials\n",
    "from utilities.data import MedicalDxDataset\n",
    "from utilities.model import BertNERModel, BiEncoder, encoder_names_mapping\n",
    "from utilities.trainer import ICDATrainer\n",
    "from utilities.evaluation import evaluate_dx_model\n",
    "\n",
    "from finding_extractor import Recognizer, Normalizer, FindingExtractor\n",
    "from emr_preprocessor import EMRPreprocessor"
   ]
  },
  {
   "cell_type": "markdown",
   "metadata": {},
   "source": [
    "## Configuration"
   ]
  },
  {
   "cell_type": "code",
   "execution_count": null,
   "metadata": {},
   "outputs": [],
   "source": [
    "full_emrs_path = \"../../datasets/full_emrs.csv\"\n",
    "ner_ckpt_path = \"../../models/ner/best_model.pth\"\n",
    "nen_ckpt_path = \"../../models/nen/best_model.pth\"\n",
    "ner_tokenizer_path = \"../../models/ner/tokenizer/\"\n",
    "nen_tokenizer_path = \"../../models/nen/tokenizer/\"\n",
    "\n",
    "entity_embed_path = \"../../models/nen/entity_embeddings_5454.pt\"\n",
    "cui2name_path = \"../../models/nen/smcui2name.json\"\n",
    "\n",
    "ner_model_name = \"BioLinkBERT\"\n",
    "nen_model_name = \"BERT\"\n",
    "\n",
    "ner_num_tags = 5\n",
    "batch_size = 16\n",
    "\n",
    "device = \"cuda\""
   ]
  },
  {
   "cell_type": "markdown",
   "metadata": {},
   "source": [
    "## Data"
   ]
  },
  {
   "cell_type": "code",
   "execution_count": null,
   "metadata": {},
   "outputs": [],
   "source": [
    "df = pd.read_csv(full_emrs_path)\n",
    "\n",
    "emrs = df.text.tolist()\n",
    "entity_embeddings = torch.load(entity_embed_path, map_location=device)\n",
    "cui2name = load_json(cui2name_path)"
   ]
  },
  {
   "cell_type": "markdown",
   "metadata": {},
   "source": [
    "## Model"
   ]
  },
  {
   "cell_type": "code",
   "execution_count": null,
   "metadata": {},
   "outputs": [],
   "source": [
    "ner_tokenizer = AutoTokenizer.from_pretrained(ner_tokenizer_path)\n",
    "nen_tokenizer = AutoTokenizer.from_pretrained(nen_tokenizer_path)"
   ]
  },
  {
   "cell_type": "code",
   "execution_count": null,
   "metadata": {},
   "outputs": [],
   "source": [
    "ner_model = BertNERModel(encoder=encoder_names_mapping[ner_model_name], num_tags=ner_num_tags)\n",
    "ner_model.load_state_dict(torch.load(ner_ckpt_path, map_location=device))\n",
    "\n",
    "nen_model = BiEncoder(encoder_name=encoder_names_mapping[nen_model_name])\n",
    "nen_model.load_state_dict(torch.load(nen_ckpt_path, map_location=device))"
   ]
  },
  {
   "cell_type": "markdown",
   "metadata": {},
   "source": [
    "## Preprocessing"
   ]
  },
  {
   "cell_type": "markdown",
   "metadata": {},
   "source": [
    "### Load Preprocessing Models"
   ]
  },
  {
   "cell_type": "code",
   "execution_count": null,
   "metadata": {},
   "outputs": [],
   "source": [
    "recognizer = Recognizer(\n",
    "    model=ner_model,\n",
    "    tokenizer=ner_tokenizer,\n",
    "    batch_size=batch_size,\n",
    "    device=device,\n",
    "    verbose=True\n",
    ")\n",
    "\n",
    "normalizer = Normalizer(\n",
    "    model=nen_model,\n",
    "    tokenizer=nen_tokenizer,\n",
    "    entity_embeddings=entity_embeddings,\n",
    "    cui2name=cui2name,\n",
    "    device=device,\n",
    "    verbose=True\n",
    ")\n",
    "\n",
    "extractor = FindingExtractor(\n",
    "    recognizer=recognizer,\n",
    "    normalizer=normalizer\n",
    ")\n",
    "\n",
    "preprocessor = EMRPreprocessor(\n",
    "    finding_extractor=extractor,\n",
    "    batch_size=batch_size\n",
    ")"
   ]
  },
  {
   "cell_type": "markdown",
   "metadata": {},
   "source": [
    "### Extract Spans Containing Clinical Findings"
   ]
  },
  {
   "cell_type": "code",
   "execution_count": null,
   "metadata": {},
   "outputs": [],
   "source": [
    "spans2pols_l = recognizer.extract_labeled_spans(emrs)"
   ]
  },
  {
   "cell_type": "code",
   "execution_count": null,
   "metadata": {},
   "outputs": [],
   "source": [
    "spans_l, pols_l = recognizer.extract_spans_and_pols(spans2pols_l)"
   ]
  },
  {
   "cell_type": "markdown",
   "metadata": {},
   "source": [
    "### Extract Medical Terms (Unnormalized) based on Spans"
   ]
  },
  {
   "cell_type": "code",
   "execution_count": null,
   "metadata": {},
   "outputs": [],
   "source": [
    "unnorm_terms_l = normalizer.normalize_term_spans(emrs, spans_l, mode=\"lower\")"
   ]
  },
  {
   "cell_type": "code",
   "execution_count": null,
   "metadata": {},
   "outputs": [],
   "source": [
    "unnorm_patient_states = extractor.build_patient_states(terms_l=unnorm_terms_l, pols_l=pols_l, return_type=\"tuple\")"
   ]
  },
  {
   "cell_type": "code",
   "execution_count": null,
   "metadata": {},
   "outputs": [],
   "source": [
    "save_json(unnorm_patient_states, \"../../datasets/unnorm_patient_states_t.json\")"
   ]
  },
  {
   "cell_type": "markdown",
   "metadata": {},
   "source": [
    "### Extract Medical Terms (Normalized) based on Spans"
   ]
  },
  {
   "cell_type": "code",
   "execution_count": null,
   "metadata": {},
   "outputs": [],
   "source": [
    "norm_terms_l = normalizer.normalize_term_spans(emrs, spans_l, mode=\"umls\")"
   ]
  },
  {
   "cell_type": "code",
   "execution_count": null,
   "metadata": {},
   "outputs": [],
   "source": [
    "norm_patient_states = extractor.build_patient_states(terms_l=norm_terms_l, pols_l=pols_l, return_type=\"tuple\")"
   ]
  },
  {
   "cell_type": "code",
   "execution_count": null,
   "metadata": {},
   "outputs": [],
   "source": [
    "save_json(norm_patient_states, \"../../datasets/norm_patient_states_t.json\")"
   ]
  },
  {
   "cell_type": "markdown",
   "metadata": {},
   "source": [
    "## Data Statistics"
   ]
  },
  {
   "cell_type": "code",
   "execution_count": 3,
   "metadata": {},
   "outputs": [],
   "source": [
    "import numpy as np\n",
    "import pandas as pd\n",
    "from typing import List\n",
    "\n",
    "def describe_emrs(emrs: List[str], tokenizer: AutoTokenizer) -> None:\n",
    "    # Number of words, tokens, and characters\n",
    "    # words (tokenized by whitespace)\n",
    "    emrs = df.text.tolist()\n",
    "    nwords = list()\n",
    "    for emr in emrs:\n",
    "        nword = len(emr.split())\n",
    "        nwords.append(nword)\n",
    "    nwords = np.array(nwords)\n",
    "\n",
    "    # tokens\n",
    "    tokenized_emrs = ner_tokenizer(emrs)[\"input_ids\"]\n",
    "    ntokens = np.array(list(map(lambda l: len(l), tokenized_emrs)))\n",
    "\n",
    "    # characters\n",
    "    nchars = list()\n",
    "    for emr in emrs:\n",
    "        nchar = len(emr)\n",
    "        nchars.append(nchar)\n",
    "    nchars = np.array(nchars)\n",
    "\n",
    "    for item, name in zip([nwords, ntokens, nchars], [\"words\", \"tokens\", \"chars\"]):\n",
    "        print(f\"Number of {name}: {pd.Series(item).describe()}\")"
   ]
  },
  {
   "cell_type": "markdown",
   "metadata": {},
   "source": [
    "### Full EMRs"
   ]
  },
  {
   "cell_type": "code",
   "execution_count": 4,
   "metadata": {},
   "outputs": [],
   "source": [
    "# Load data\n",
    "df = pd.read_csv(\"../../datasets/full_emrs.csv\")"
   ]
  },
  {
   "cell_type": "code",
   "execution_count": null,
   "metadata": {},
   "outputs": [],
   "source": [
    "nsamples = len(df)\n",
    "nlabels = df.labels.nunique()\n",
    "print(f\"Sample size: {nsamples} / Label size: {nlabels}\")"
   ]
  },
  {
   "cell_type": "code",
   "execution_count": null,
   "metadata": {},
   "outputs": [],
   "source": [
    "emrs = df.text.tolist()\n",
    "describe_emrs(emrs, ner_tokenizer)"
   ]
  }
 ],
 "metadata": {
  "kernelspec": {
   "display_name": "Python 3.8.13 ('cuda-11.3')",
   "language": "python",
   "name": "python3"
  },
  "language_info": {
   "codemirror_mode": {
    "name": "ipython",
    "version": 3
   },
   "file_extension": ".py",
   "mimetype": "text/x-python",
   "name": "python",
   "nbconvert_exporter": "python",
   "pygments_lexer": "ipython3",
   "version": "3.8.13"
  },
  "orig_nbformat": 4,
  "vscode": {
   "interpreter": {
    "hash": "35b66dd0c8f752918e1728d86abaa8fb004a7dee1d90779ea4d0023d852f9fe7"
   }
  }
 },
 "nbformat": 4,
 "nbformat_minor": 2
}
