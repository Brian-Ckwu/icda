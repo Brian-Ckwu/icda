{
 "cells": [
  {
   "cell_type": "code",
   "execution_count": 12,
   "metadata": {},
   "outputs": [],
   "source": [
    "import sys\n",
    "sys.path.append(\"../../\")\n",
    "\n",
    "import json\n",
    "import pickle\n",
    "from pathlib import Path\n",
    "from collections import Counter\n",
    "\n",
    "import pandas as pd\n",
    "\n",
    "from sklearn.model_selection import train_test_split\n",
    "\n",
    "import torch\n",
    "import torch.nn as nn\n",
    "from transformers import AutoTokenizer\n",
    "\n",
    "from utilities.utils import set_seeds, render_exp_name, load_args, load_pickle, load_jsonl, load_json, save_json, get_logger\n",
    "from utilities.preprocess import augment_extracted_emrs_with_partials, preprocess_extracted_emrs, select_labels_subset, build_label2id_mapping, augment_full_emrs_with_partials\n",
    "from utilities.data import MedicalDxDataset\n",
    "from utilities.model import BertDxModel, encoder_names_mapping\n",
    "from utilities.trainer import ICDATrainer\n",
    "from utilities.evaluation import evaluate_dx_model"
   ]
  },
  {
   "cell_type": "markdown",
   "metadata": {},
   "source": [
    "## Configuration"
   ]
  },
  {
   "cell_type": "code",
   "execution_count": 14,
   "metadata": {},
   "outputs": [
    {
     "data": {
      "text/plain": [
       "1084"
      ]
     },
     "execution_count": 14,
     "metadata": {},
     "output_type": "execute_result"
    }
   ],
   "source": [
    "args = load_args(\"./config.json\")\n",
    "\n",
    "set_seeds(args.seed)\n",
    "\n",
    "# logger\n",
    "logger = get_logger(name=str(__name__))\n",
    "\n",
    "# set up experiment\n",
    "args.exp_name = render_exp_name(args, hparams=args.exp_hparams, sep='__')\n",
    "args.exp_dir = f\"{args.save_dir}/{args.exp_name}\"\n",
    "Path(args.exp_dir).mkdir(parents=True, exist_ok=True)\n",
    "\n",
    "# save args\n",
    "(Path(args.exp_dir) / \"config.json\").write_text(json.dumps(vars(args), indent=4))\n",
    "(Path(args.exp_dir) / \"args.pickle\").write_bytes(pickle.dumps(args))"
   ]
  },
  {
   "cell_type": "markdown",
   "metadata": {},
   "source": [
    "## Data"
   ]
  },
  {
   "cell_type": "markdown",
   "metadata": {},
   "source": [
    "### Load Data"
   ]
  },
  {
   "cell_type": "code",
   "execution_count": null,
   "metadata": {},
   "outputs": [],
   "source": [
    "emrs = load_json(args.input_file)\n",
    "icds = load_json(args.label_file)"
   ]
  },
  {
   "cell_type": "markdown",
   "metadata": {},
   "source": [
    "### Preprocessing"
   ]
  },
  {
   "cell_type": "code",
   "execution_count": null,
   "metadata": {},
   "outputs": [],
   "source": [
    "# Input\n",
    "if args.input_type in [\"unnorm\", \"norm\"]:\n",
    "    # preprocess EMRs\n",
    "    pass"
   ]
  },
  {
   "cell_type": "code",
   "execution_count": 23,
   "metadata": {},
   "outputs": [],
   "source": [
    "# Label\n",
    "# convert ICDs to label_ids\n",
    "icd2id = build_label2id_mapping(labels=icds)\n",
    "labels = [icd2id[icd] for icd in icds]\n",
    "# save label conversion mapping\n",
    "id2icd = {id_: icd for icd, id_ in icd2id.items()}\n",
    "save_json(id2icd, f\"{args.exp_dir}/id2icd.json\")"
   ]
  },
  {
   "cell_type": "markdown",
   "metadata": {},
   "source": [
    "### Split"
   ]
  }
 ],
 "metadata": {
  "kernelspec": {
   "display_name": "Python 3.8.13 ('cuda-11.3')",
   "language": "python",
   "name": "python3"
  },
  "language_info": {
   "codemirror_mode": {
    "name": "ipython",
    "version": 3
   },
   "file_extension": ".py",
   "mimetype": "text/x-python",
   "name": "python",
   "nbconvert_exporter": "python",
   "pygments_lexer": "ipython3",
   "version": "3.8.13"
  },
  "orig_nbformat": 4,
  "vscode": {
   "interpreter": {
    "hash": "35b66dd0c8f752918e1728d86abaa8fb004a7dee1d90779ea4d0023d852f9fe7"
   }
  }
 },
 "nbformat": 4,
 "nbformat_minor": 2
}
